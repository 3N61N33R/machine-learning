{
 "cells": [
  {
   "cell_type": "markdown",
   "id": "86562332",
   "metadata": {},
   "source": [
    "# Australian Students Survey Analysis\n",
    "This notebook analyzes the dataset of Australian students surveyed for a Statistics class."
   ]
  },
  {
   "cell_type": "code",
   "execution_count": null,
   "id": "2ed64bca",
   "metadata": {},
   "outputs": [],
   "source": [
    "import pandas as pd\n",
    "import matplotlib.pyplot as plt\n",
    "import seaborn as sns\n",
    "\n",
    "# Load the dataset\n",
    "df = pd.read_csv(\"survey.csv\")\n",
    "df.head()\n"
   ]
  },
  {
   "cell_type": "markdown",
   "id": "b4deb8fa",
   "metadata": {},
   "source": [
    "## 1. How many students were surveyed?"
   ]
  },
  {
   "cell_type": "code",
   "execution_count": null,
   "id": "c32c618c",
   "metadata": {},
   "outputs": [],
   "source": [
    "len(df)"
   ]
  },
  {
   "cell_type": "markdown",
   "id": "3fd5225c",
   "metadata": {},
   "source": [
    "## 2. Facts recorded and types (quantitative vs qualitative)"
   ]
  },
  {
   "cell_type": "code",
   "execution_count": null,
   "id": "f12c28f2",
   "metadata": {},
   "outputs": [],
   "source": [
    "quantitative = df.select_dtypes(include='number').columns.tolist()\n",
    "qualitative = df.select_dtypes(include='object').columns.tolist()\n",
    "quantitative, qualitative\n"
   ]
  },
  {
   "cell_type": "markdown",
   "id": "d9e26e07",
   "metadata": {},
   "source": [
    "## 3. Did all students provide all facts?"
   ]
  },
  {
   "cell_type": "code",
   "execution_count": null,
   "id": "15e149ca",
   "metadata": {},
   "outputs": [],
   "source": [
    "df.isnull().sum()"
   ]
  },
  {
   "cell_type": "markdown",
   "id": "012de28a",
   "metadata": {},
   "source": [
    "## 4. Balance in terms of sex"
   ]
  },
  {
   "cell_type": "code",
   "execution_count": null,
   "id": "bd99b0a5",
   "metadata": {},
   "outputs": [],
   "source": [
    "df['Sex'].value_counts(dropna=False)"
   ]
  },
  {
   "cell_type": "markdown",
   "id": "4f3cdccc",
   "metadata": {},
   "source": [
    "## 5. Representation of left-handers, smokers, and exercisers"
   ]
  },
  {
   "cell_type": "code",
   "execution_count": null,
   "id": "3f901afa",
   "metadata": {},
   "outputs": [],
   "source": [
    "left_handed = df['W.Hnd'].value_counts(dropna=False)\n",
    "smoking = df['Smoke'].value_counts(dropna=False)\n",
    "exercise = df['Exer'].value_counts(dropna=False)\n",
    "left_handed, smoking, exercise\n"
   ]
  },
  {
   "cell_type": "markdown",
   "id": "b9a0583a",
   "metadata": {},
   "source": [
    "## 6. Average height and pulse, and spread"
   ]
  },
  {
   "cell_type": "code",
   "execution_count": null,
   "id": "09a9d7f6",
   "metadata": {},
   "outputs": [],
   "source": [
    "height_stats = df['Height'].describe()\n",
    "pulse_stats = df['Pulse'].describe()\n",
    "height_stats, pulse_stats\n"
   ]
  },
  {
   "cell_type": "markdown",
   "id": "a022adbb",
   "metadata": {},
   "source": [
    "## 7. Boxplots of height and pulse by exercise level"
   ]
  },
  {
   "cell_type": "code",
   "execution_count": null,
   "id": "0f16abb4",
   "metadata": {},
   "outputs": [],
   "source": [
    "fig, axs = plt.subplots(1, 2, figsize=(14, 6))\n",
    "sns.boxplot(data=df, x='Exer', y='Height', ax=axs[0])\n",
    "axs[0].set_title('Height vs Exercise')\n",
    "sns.boxplot(data=df, x='Exer', y='Pulse', ax=axs[1])\n",
    "axs[1].set_title('Pulse vs Exercise')\n",
    "plt.tight_layout()\n",
    "plt.show()\n"
   ]
  },
  {
   "cell_type": "markdown",
   "id": "67505f0c",
   "metadata": {},
   "source": [
    "## 8. Boxplot of pulse by smoking habit"
   ]
  },
  {
   "cell_type": "code",
   "execution_count": null,
   "id": "3909f1dd",
   "metadata": {},
   "outputs": [],
   "source": [
    "plt.figure(figsize=(8, 6))\n",
    "sns.boxplot(data=df, x='Smoke', y='Pulse')\n",
    "plt.title('Pulse vs Smoking Habit')\n",
    "plt.show()\n"
   ]
  },
  {
   "cell_type": "markdown",
   "id": "f1383c56",
   "metadata": {},
   "source": [
    "## 9. Scatter plots of hand spans and height"
   ]
  },
  {
   "cell_type": "code",
   "execution_count": null,
   "id": "7abc3f3b",
   "metadata": {},
   "outputs": [],
   "source": [
    "sns.pairplot(df, vars=['Wr.Hnd', 'NW.Hnd', 'Height'])\n",
    "plt.show()\n"
   ]
  }
 ],
 "metadata": {
  "kernelspec": {
   "display_name": "3.12.0",
   "language": "python",
   "name": "python3"
  },
  "language_info": {
   "name": "python",
   "version": "3.12.0"
  }
 },
 "nbformat": 4,
 "nbformat_minor": 5
}
