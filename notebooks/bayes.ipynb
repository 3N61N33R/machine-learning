{
 "cells": [
  {
   "cell_type": "markdown",
   "id": "7eafed1b",
   "metadata": {},
   "source": [
    "# Bayes"
   ]
  },
  {
   "cell_type": "code",
   "execution_count": 4,
   "id": "4e0e90f6",
   "metadata": {},
   "outputs": [],
   "source": [
    "import numpy as np"
   ]
  },
  {
   "cell_type": "code",
   "execution_count": 2,
   "id": "5d2e6984",
   "metadata": {},
   "outputs": [],
   "source": [
    "def naiveBayes(classes, learner, parameterised_function, train_data):\n",
    "    f = {}\n",
    "    parameters = {}\n",
    "    g = {}\n",
    "    for class_value in classes:\n",
    "        parameters[class_value] = {}\n",
    "        f[class_value] = {}\n",
    "\n",
    "        # Takes the features associated with datapoints in a class\n",
    "        train_x = train_data[train_data[:, -1] == class_value][:, :-1]\n",
    "\n",
    "        for feature in range(train_x.shape[1]):\n",
    "            parameters[class_value][feature] = learner(train_x[:, feature])\n",
    "            f[class_value][feature] = parameterised_function(\n",
    "                parameters[class_value][feature]\n",
    "            )\n",
    "\n",
    "        def create_g(class_value):\n",
    "            def g(test_data):\n",
    "                unscaled_feature_likelihoods = np.array(\n",
    "                    [\n",
    "                        [\n",
    "                            f[class_value][feature](test_data[point, feature])\n",
    "                            for feature in range(test_data.shape[1])\n",
    "                        ]\n",
    "                        for point in range(test_data.shape[0])\n",
    "                    ]\n",
    "                )\n",
    "                unscaled_point_likelihood = np.prod(\n",
    "                    unscaled_feature_likelihoods, axis=1\n",
    "                ).reshape(-1, 1)\n",
    "                return unscaled_point_likelihood\n",
    "\n",
    "            return g\n",
    "\n",
    "        g[class_value] = create_g(class_value)\n",
    "\n",
    "    return g\n"
   ]
  },
  {
   "cell_type": "code",
   "execution_count": 5,
   "id": "4bc41b4c",
   "metadata": {},
   "outputs": [
    {
     "name": "stdout",
     "output_type": "stream",
     "text": [
      "[[3.67879441e-01]\n",
      " [1.23409804e-04]]\n",
      "[[3.72665317e-06]\n",
      " [1.83156389e-02]]\n"
     ]
    }
   ],
   "source": [
    "classes = [0,1]\n",
    "def learner(train):\n",
    "    mu = np.mean(train)\n",
    "    sig = np.std(train)\n",
    "    return [mu,sig]\n",
    "def parameterised_function(parameters):\n",
    "    mu = parameters[0]\n",
    "    sig = parameters[1]\n",
    "    return lambda x: np.exp(-0.5*(x - mu)**2/(sig**2))\n",
    "train_data = np.array([[2.0, 4.0, 0.0], [1.0, 5.0, 0.0], [4.0, 2.0, 1.0], [6.0, 0.0, 1.0]])\n",
    "g = naiveBayes(classes, learner, parameterised_function, train_data)\n",
    "test_data = np.array([[2.0, 5.0], [3.0,3.0]])\n",
    "\n",
    "for class_value in classes:\n",
    "    print(g[class_value](test_data))\n"
   ]
  }
 ],
 "metadata": {
  "kernelspec": {
   "display_name": "Python 3",
   "language": "python",
   "name": "python3"
  },
  "language_info": {
   "codemirror_mode": {
    "name": "ipython",
    "version": 3
   },
   "file_extension": ".py",
   "mimetype": "text/x-python",
   "name": "python",
   "nbconvert_exporter": "python",
   "pygments_lexer": "ipython3",
   "version": "3.13.3"
  }
 },
 "nbformat": 4,
 "nbformat_minor": 5
}
